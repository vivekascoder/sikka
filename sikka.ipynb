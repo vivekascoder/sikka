{
 "cells": [
  {
   "cell_type": "code",
   "execution_count": 2,
   "metadata": {},
   "outputs": [],
   "source": [
    "import hashlib\n",
    "import string\n",
    "import json\n",
    "import random\n",
    "import logging\n",
    "import numpy as np\n",
    "import pandas as pd\n",
    "import datetime\n",
    "import binascii\n",
    "import pylab as pl\n",
    "import base64\n",
    "import collections\n",
    "import Crypto\n",
    "from Crypto import Random\n",
    "from Crypto.Hash import SHA\n",
    "from Crypto.PublicKey import RSA\n",
    "from Crypto.Signature import PKCS1_v1_5"
   ]
  },
  {
   "cell_type": "code",
   "execution_count": 3,
   "metadata": {},
   "outputs": [],
   "source": [
    "transactions = []"
   ]
  },
  {
   "cell_type": "code",
   "execution_count": 4,
   "metadata": {},
   "outputs": [],
   "source": [
    "class Client:\n",
    "    def __init__(self):\n",
    "        random = Random.new().read\n",
    "        self._private_key = RSA.generate(1024, random)\n",
    "        self._public_key = self._private_key.publickey()\n",
    "        \n",
    "    @property\n",
    "    def identity(self):\n",
    "        \"\"\"NOTE: The key provided in hexlify func. should be byte like\"\"\"\n",
    "        return binascii.hexlify(self._public_key.exportKey(format='DER')).decode('ascii')\n",
    "    "
   ]
  },
  {
   "cell_type": "code",
   "execution_count": 5,
   "metadata": {},
   "outputs": [
    {
     "name": "stdout",
     "output_type": "stream",
     "text": [
      "30819f300d06092a864886f70d010101050003818d0030818902818100a5453ea002bb69527c691a72043a3647bb7d0c841fbbb128bdbd98e64bb91f281484c173d11eb0c39298ebcd91b109e166937cdda980ba6af39803cf198b2f07cc82b56dc090df3c1e18e220177640ab47395318f2d866b790bd1f848399ece41b5cbf47e4bd1fbc2c4d551080dc14296a427206d24cad113bebae98c5b51df50203010001\n"
     ]
    }
   ],
   "source": [
    "Dinesh = Client()\n",
    "print(Dinesh.identity)"
   ]
  },
  {
   "cell_type": "code",
   "execution_count": 6,
   "metadata": {},
   "outputs": [],
   "source": [
    "class Transaction:\n",
    "    def __init__(self, sender, recipient, value):\n",
    "        \"\"\"\n",
    "        sender: Sender Class Object.\n",
    "        recipient: \n",
    "        value: It is the amount of money send.\n",
    "        \"\"\"\n",
    "        self.sender = sender\n",
    "        self.recipient = recipient\n",
    "        self.value = value\n",
    "        self.time = datetime.datetime.now()\n",
    "    \n",
    "    def to_dict(self):\n",
    "        if self.sender == \"Genesis\":\n",
    "            identity = \"Genesis\"\n",
    "        else:\n",
    "            identity = self.sender.identity\n",
    "        return collections.OrderedDict({\n",
    "            'sender': identity,\n",
    "            'recipient': self.recipient,\n",
    "            'value': self.value,\n",
    "            'time': self.time\n",
    "        })\n",
    "    def sign_transaction(self):\n",
    "        private_key = self.sender._private_key\n",
    "        signer = PKCS1_v1_5.new(private_key)\n",
    "        digest_hash = SHA.new(str(self.to_dict()).encode('utf8'))\n",
    "        return binascii.hexlify(signer.sign(digest_hash)).decode('ascii')\n",
    "    "
   ]
  },
  {
   "cell_type": "code",
   "execution_count": 7,
   "metadata": {},
   "outputs": [
    {
     "data": {
      "text/plain": [
       "'30819f300d06092a864886f70d010101050003818d0030818902818100a5453ea002bb69527c691a72043a3647bb7d0c841fbbb128bdbd98e64bb91f281484c173d11eb0c39298ebcd91b109e166937cdda980ba6af39803cf198b2f07cc82b56dc090df3c1e18e220177640ab47395318f2d866b790bd1f848399ece41b5cbf47e4bd1fbc2c4d551080dc14296a427206d24cad113bebae98c5b51df50203010001'"
      ]
     },
     "execution_count": 7,
     "metadata": {},
     "output_type": "execute_result"
    }
   ],
   "source": [
    "Dinesh.identity"
   ]
  },
  {
   "cell_type": "code",
   "execution_count": 8,
   "metadata": {},
   "outputs": [
    {
     "data": {
      "text/plain": [
       "'30819f300d06092a864886f70d010101050003818d0030818902818100af4ccf2de98b4a1795cac18978bef976ab4dfdd967f6eb16aa65575d3f156681dfffd296a21092e01347ce98d8c960c19803f64606bc43997575de71c2d10dbcaed7d0ce242c14488aa90862198bcf9474ea351632e726e041a945c67041df3af3503c729460bf4ca21a227d1c49ce2dade11638bc170dfe4b8ebc7b1fe925250203010001'"
      ]
     },
     "execution_count": 8,
     "metadata": {},
     "output_type": "execute_result"
    }
   ],
   "source": [
    "Naresh = Client()\n",
    "Naresh.identity"
   ]
  },
  {
   "cell_type": "code",
   "execution_count": 9,
   "metadata": {},
   "outputs": [],
   "source": [
    "t = Transaction(\n",
    "    Dinesh,\n",
    "    Naresh.identity,\n",
    "    10.25\n",
    ")"
   ]
  },
  {
   "cell_type": "code",
   "execution_count": 10,
   "metadata": {},
   "outputs": [
    {
     "name": "stdout",
     "output_type": "stream",
     "text": [
      "4152a8dd9a75cc327a6759ee4d09f0155f583b39bbfef6c8f0dc05a0cbd102019cbb1362a780a8847b7afcaad39e7e9ab747045090b9bef23220413f37d810556c2b1ff4a5e8701add9373dd43f682d568764f244d459b119e7eab4312737848b00d5af67747405f3f266134eb405bc21a5e4c8be84ed2779c9f240fc28e90a3\n"
     ]
    }
   ],
   "source": [
    "signer = t.sign_transaction()\n",
    "print(signer)"
   ]
  },
  {
   "cell_type": "code",
   "execution_count": 11,
   "metadata": {},
   "outputs": [
    {
     "name": "stdout",
     "output_type": "stream",
     "text": [
      "Dinesh: \n",
      " 30819f300d06092a864886f70d010101050003818d0030818902818100a5453ea002bb69527c691a72043a3647bb7d0c841fbbb128bdbd98e64bb91f281484c173d11eb0c39298ebcd91b109e166937cdda980ba6af39803cf198b2f07cc82b56dc090df3c1e18e220177640ab47395318f2d866b790bd1f848399ece41b5cbf47e4bd1fbc2c4d551080dc14296a427206d24cad113bebae98c5b51df50203010001 Naresh: \n",
      " 30819f300d06092a864886f70d010101050003818d0030818902818100af4ccf2de98b4a1795cac18978bef976ab4dfdd967f6eb16aa65575d3f156681dfffd296a21092e01347ce98d8c960c19803f64606bc43997575de71c2d10dbcaed7d0ce242c14488aa90862198bcf9474ea351632e726e041a945c67041df3af3503c729460bf4ca21a227d1c49ce2dade11638bc170dfe4b8ebc7b1fe925250203010001 Seema: \n",
      " 30819f300d06092a864886f70d010101050003818d0030818902818100c16f6d8a425945b5416fd2f8ed4bda1cdc117a6f67b34b8fba8c95b06a6ea4b2e1258729bd3f0619d930af7d4df8f65e0c2f32734816cde927cb2bb9c677aa5590cc47aeb48e9f0e92fe3b19bd516a8010e9ceb3616f011dd38ce0c3bc55cf504e8247afc00e5408ef9e64dd7637f4a78cf2637be83746795c3b77aa482511490203010001 Manoj: \n",
      " 30819f300d06092a864886f70d010101050003818d0030818902818100b08b8a52e0401b421cdc09ad9da3fddc13bc823b8b36df3d04bc7ce40b5d063a28c0084a6d803f680f97f8928db9a7b6b08a3ef98af403b389b4f03ef861b252b3d012e6512697772758fe87cfe7f1d2b34ea27e1379871c65cd0b46e34a26ebb06a248913a5583de74e35b438aac923c61185619732d5bcaab5df45920333a10203010001\n"
     ]
    }
   ],
   "source": [
    "Seema = Client()\n",
    "Manoj = Client()\n",
    "print(\"Dinesh: \\n\", Dinesh.identity, \"Naresh: \\n\", Naresh.identity\\\n",
    "     , \"Seema: \\n\", Seema.identity, \"Manoj: \\n\", Manoj.identity)\n"
   ]
  },
  {
   "cell_type": "code",
   "execution_count": 12,
   "metadata": {},
   "outputs": [],
   "source": [
    "t1 = Transaction(Dinesh, Naresh.identity, 15.25)"
   ]
  },
  {
   "cell_type": "code",
   "execution_count": 13,
   "metadata": {},
   "outputs": [
    {
     "name": "stdout",
     "output_type": "stream",
     "text": [
      "From Dinesh to Naresh: \n",
      " 4c0e88031e9655026712bf254d83dce48d753320133cf57611786765011ec5b97203c8e5d8477e0eb7ecf1852fbef69fba0c92af4d3eae5c0b417d5782a7e284103c5b93afbccbe4aa8df287c61072f52286e18a78df7f1e6d3d8e2a3080c6a7830c262453787b6279888fe59738f8233827236edda46861b771c12646eb0e71\n"
     ]
    }
   ],
   "source": [
    "signature_1 = t1.sign_transaction()\n",
    "print(\"From Dinesh to Naresh: \\n\", signature_1)"
   ]
  },
  {
   "cell_type": "code",
   "execution_count": 14,
   "metadata": {},
   "outputs": [],
   "source": [
    "transactions.append(t1)"
   ]
  },
  {
   "cell_type": "code",
   "execution_count": 15,
   "metadata": {},
   "outputs": [],
   "source": [
    "t2 = Transaction(\n",
    "   Dinesh,\n",
    "   Seema.identity,\n",
    "   6.0\n",
    ")"
   ]
  },
  {
   "cell_type": "code",
   "execution_count": 16,
   "metadata": {},
   "outputs": [],
   "source": [
    "t2.sign_transaction()\n",
    "transactions.append(t2)"
   ]
  },
  {
   "cell_type": "code",
   "execution_count": 17,
   "metadata": {},
   "outputs": [],
   "source": [
    "def display_transaction(transaction):\n",
    "   #for transaction in transactions:\n",
    "   dict = transaction.to_dict()\n",
    "   print (\"sender: \" + dict['sender'])\n",
    "   print ('-----')\n",
    "   print (\"recipient: \" + dict['recipient'])\n",
    "   print ('-----')\n",
    "   print (\"value: \" + str(dict['value']))\n",
    "   print ('-----')\n",
    "   print (\"time: \" + str(dict['time']))\n",
    "   print ('-----')"
   ]
  },
  {
   "cell_type": "code",
   "execution_count": 18,
   "metadata": {},
   "outputs": [
    {
     "name": "stdout",
     "output_type": "stream",
     "text": [
      "sender: 30819f300d06092a864886f70d010101050003818d0030818902818100a5453ea002bb69527c691a72043a3647bb7d0c841fbbb128bdbd98e64bb91f281484c173d11eb0c39298ebcd91b109e166937cdda980ba6af39803cf198b2f07cc82b56dc090df3c1e18e220177640ab47395318f2d866b790bd1f848399ece41b5cbf47e4bd1fbc2c4d551080dc14296a427206d24cad113bebae98c5b51df50203010001\n",
      "-----\n",
      "recipient: 30819f300d06092a864886f70d010101050003818d0030818902818100af4ccf2de98b4a1795cac18978bef976ab4dfdd967f6eb16aa65575d3f156681dfffd296a21092e01347ce98d8c960c19803f64606bc43997575de71c2d10dbcaed7d0ce242c14488aa90862198bcf9474ea351632e726e041a945c67041df3af3503c729460bf4ca21a227d1c49ce2dade11638bc170dfe4b8ebc7b1fe925250203010001\n",
      "-----\n",
      "value: 15.25\n",
      "-----\n",
      "time: 2020-05-11 03:26:16.395303\n",
      "-----\n",
      "--------------\n",
      "sender: 30819f300d06092a864886f70d010101050003818d0030818902818100a5453ea002bb69527c691a72043a3647bb7d0c841fbbb128bdbd98e64bb91f281484c173d11eb0c39298ebcd91b109e166937cdda980ba6af39803cf198b2f07cc82b56dc090df3c1e18e220177640ab47395318f2d866b790bd1f848399ece41b5cbf47e4bd1fbc2c4d551080dc14296a427206d24cad113bebae98c5b51df50203010001\n",
      "-----\n",
      "recipient: 30819f300d06092a864886f70d010101050003818d0030818902818100c16f6d8a425945b5416fd2f8ed4bda1cdc117a6f67b34b8fba8c95b06a6ea4b2e1258729bd3f0619d930af7d4df8f65e0c2f32734816cde927cb2bb9c677aa5590cc47aeb48e9f0e92fe3b19bd516a8010e9ceb3616f011dd38ce0c3bc55cf504e8247afc00e5408ef9e64dd7637f4a78cf2637be83746795c3b77aa482511490203010001\n",
      "-----\n",
      "value: 6.0\n",
      "-----\n",
      "time: 2020-05-11 03:26:17.855505\n",
      "-----\n",
      "--------------\n"
     ]
    }
   ],
   "source": [
    "for transaction in transactions:\n",
    "   display_transaction (transaction)\n",
    "   print ('--------------')"
   ]
  },
  {
   "cell_type": "code",
   "execution_count": 19,
   "metadata": {},
   "outputs": [],
   "source": [
    "BLOCK_LENGTH = 3\n",
    "last_block_hash = \"\""
   ]
  },
  {
   "cell_type": "code",
   "execution_count": 20,
   "metadata": {},
   "outputs": [],
   "source": [
    "class Block:\n",
    "    def __init__(self):\n",
    "        self.verified_transactions = []\n",
    "        self.previous_block_hash = \"\"\n",
    "        self.Nonce = \"\""
   ]
  },
  {
   "cell_type": "code",
   "execution_count": 21,
   "metadata": {},
   "outputs": [],
   "source": [
    "\"\"\"\n",
    "Seema, Manoj, Dinesh, Naresh\"\"\"\n",
    "t3 = Transaction(Manoj, Naresh.identity, 12.95)\n",
    "t3.sign_transaction()\n",
    "transactions.append(t3)\n",
    "t4 = Transaction(Manoj, Seema.identity, 129)\n",
    "t4.sign_transaction()\n",
    "transactions.append(t4)\n",
    "t5 = Transaction(Seema, Naresh.identity, 15.0)\n",
    "t5.sign_transaction()\n",
    "transactions.append(t5)\n",
    "t6 = Transaction(Manoj, Seema.identity, 100)\n",
    "t6.sign_transaction()\n",
    "transactions.append(t6)\n",
    "t7 = Transaction(Manoj, Naresh.identity, 5)\n",
    "t7.sign_transaction()\n",
    "transactions.append(t7)\n"
   ]
  },
  {
   "cell_type": "code",
   "execution_count": 22,
   "metadata": {},
   "outputs": [],
   "source": [
    "block0 = Block()"
   ]
  },
  {
   "cell_type": "code",
   "execution_count": 23,
   "metadata": {},
   "outputs": [],
   "source": [
    "block0.previous_block_hash = None\n",
    "block0.Nonce = None\n",
    "# verified_transaction_list is the list of transaction, a\n",
    "# Block Contains. {MAX/MIN=3}"
   ]
  },
  {
   "cell_type": "code",
   "execution_count": 24,
   "metadata": {},
   "outputs": [
    {
     "name": "stdout",
     "output_type": "stream",
     "text": [
      "sender: 30819f300d06092a864886f70d010101050003818d0030818902818100a5453ea002bb69527c691a72043a3647bb7d0c841fbbb128bdbd98e64bb91f281484c173d11eb0c39298ebcd91b109e166937cdda980ba6af39803cf198b2f07cc82b56dc090df3c1e18e220177640ab47395318f2d866b790bd1f848399ece41b5cbf47e4bd1fbc2c4d551080dc14296a427206d24cad113bebae98c5b51df50203010001\n",
      "-----\n",
      "recipient: 30819f300d06092a864886f70d010101050003818d0030818902818100af4ccf2de98b4a1795cac18978bef976ab4dfdd967f6eb16aa65575d3f156681dfffd296a21092e01347ce98d8c960c19803f64606bc43997575de71c2d10dbcaed7d0ce242c14488aa90862198bcf9474ea351632e726e041a945c67041df3af3503c729460bf4ca21a227d1c49ce2dade11638bc170dfe4b8ebc7b1fe925250203010001\n",
      "-----\n",
      "value: 15.25\n",
      "-----\n",
      "time: 2020-05-11 03:26:16.395303\n",
      "-----\n"
     ]
    }
   ],
   "source": [
    "block0.verified_transactions.append(t1)\n",
    "block0.verified_transactions.append(t2)\n",
    "block0.verified_transactions.append(t3)\n",
    "display_transaction(t1)"
   ]
  },
  {
   "cell_type": "code",
   "execution_count": 25,
   "metadata": {},
   "outputs": [],
   "source": [
    "Sikka = []"
   ]
  },
  {
   "cell_type": "code",
   "execution_count": 26,
   "metadata": {},
   "outputs": [],
   "source": [
    "Sikka.append(block0)"
   ]
  },
  {
   "cell_type": "code",
   "execution_count": 27,
   "metadata": {},
   "outputs": [
    {
     "name": "stdout",
     "output_type": "stream",
     "text": [
      "57b473dad3979b344f0924808e67c132f1d488c53e04d75d8f4dc73bd6498ef1\n"
     ]
    }
   ],
   "source": [
    "last_block_hash = hashlib.sha256(str(block0).encode('ascii')).hexdigest()\n",
    "print(last_block_hash)"
   ]
  },
  {
   "cell_type": "code",
   "execution_count": 28,
   "metadata": {},
   "outputs": [],
   "source": [
    "def dump_chain(chain):\n",
    "    print(\"No. of blocks in Sikka: \", len(chain))\n",
    "    for i in range(len(chain)):\n",
    "        temp_block = chain[i]\n",
    "        print(\"Block # \" + str(i))\n",
    "        for t in temp_block.verified_transactions:\n",
    "            display_transaction(t)\n",
    "            print(\"------------END------------\")\n",
    "        print(\"===========END OF BLOCK============\")"
   ]
  },
  {
   "cell_type": "code",
   "execution_count": 29,
   "metadata": {},
   "outputs": [
    {
     "name": "stdout",
     "output_type": "stream",
     "text": [
      "No. of blocks in Sikka:  1\n",
      "Block # 0\n",
      "sender: 30819f300d06092a864886f70d010101050003818d0030818902818100a5453ea002bb69527c691a72043a3647bb7d0c841fbbb128bdbd98e64bb91f281484c173d11eb0c39298ebcd91b109e166937cdda980ba6af39803cf198b2f07cc82b56dc090df3c1e18e220177640ab47395318f2d866b790bd1f848399ece41b5cbf47e4bd1fbc2c4d551080dc14296a427206d24cad113bebae98c5b51df50203010001\n",
      "-----\n",
      "recipient: 30819f300d06092a864886f70d010101050003818d0030818902818100af4ccf2de98b4a1795cac18978bef976ab4dfdd967f6eb16aa65575d3f156681dfffd296a21092e01347ce98d8c960c19803f64606bc43997575de71c2d10dbcaed7d0ce242c14488aa90862198bcf9474ea351632e726e041a945c67041df3af3503c729460bf4ca21a227d1c49ce2dade11638bc170dfe4b8ebc7b1fe925250203010001\n",
      "-----\n",
      "value: 15.25\n",
      "-----\n",
      "time: 2020-05-11 03:26:16.395303\n",
      "-----\n",
      "------------END------------\n",
      "sender: 30819f300d06092a864886f70d010101050003818d0030818902818100a5453ea002bb69527c691a72043a3647bb7d0c841fbbb128bdbd98e64bb91f281484c173d11eb0c39298ebcd91b109e166937cdda980ba6af39803cf198b2f07cc82b56dc090df3c1e18e220177640ab47395318f2d866b790bd1f848399ece41b5cbf47e4bd1fbc2c4d551080dc14296a427206d24cad113bebae98c5b51df50203010001\n",
      "-----\n",
      "recipient: 30819f300d06092a864886f70d010101050003818d0030818902818100c16f6d8a425945b5416fd2f8ed4bda1cdc117a6f67b34b8fba8c95b06a6ea4b2e1258729bd3f0619d930af7d4df8f65e0c2f32734816cde927cb2bb9c677aa5590cc47aeb48e9f0e92fe3b19bd516a8010e9ceb3616f011dd38ce0c3bc55cf504e8247afc00e5408ef9e64dd7637f4a78cf2637be83746795c3b77aa482511490203010001\n",
      "-----\n",
      "value: 6.0\n",
      "-----\n",
      "time: 2020-05-11 03:26:17.855505\n",
      "-----\n",
      "------------END------------\n",
      "sender: 30819f300d06092a864886f70d010101050003818d0030818902818100b08b8a52e0401b421cdc09ad9da3fddc13bc823b8b36df3d04bc7ce40b5d063a28c0084a6d803f680f97f8928db9a7b6b08a3ef98af403b389b4f03ef861b252b3d012e6512697772758fe87cfe7f1d2b34ea27e1379871c65cd0b46e34a26ebb06a248913a5583de74e35b438aac923c61185619732d5bcaab5df45920333a10203010001\n",
      "-----\n",
      "recipient: 30819f300d06092a864886f70d010101050003818d0030818902818100af4ccf2de98b4a1795cac18978bef976ab4dfdd967f6eb16aa65575d3f156681dfffd296a21092e01347ce98d8c960c19803f64606bc43997575de71c2d10dbcaed7d0ce242c14488aa90862198bcf9474ea351632e726e041a945c67041df3af3503c729460bf4ca21a227d1c49ce2dade11638bc170dfe4b8ebc7b1fe925250203010001\n",
      "-----\n",
      "value: 12.95\n",
      "-----\n",
      "time: 2020-05-11 03:26:18.669672\n",
      "-----\n",
      "------------END------------\n",
      "===========END OF BLOCK============\n"
     ]
    }
   ],
   "source": [
    "dump_chain(Sikka)"
   ]
  },
  {
   "cell_type": "code",
   "execution_count": 31,
   "metadata": {},
   "outputs": [],
   "source": [
    "Block1 = Block()\n",
    "Block1.previous_block_hash = last_block_hash\n",
    "Block1.verified_transactions.append(t4)\n",
    "Block1.verified_transactions.append(t5)\n",
    "Block1.verified_transactions.append(t6)"
   ]
  },
  {
   "cell_type": "code",
   "execution_count": 39,
   "metadata": {},
   "outputs": [
    {
     "name": "stdout",
     "output_type": "stream",
     "text": [
      "Transaction: # 1\n",
      "sender: 30819f300d06092a864886f70d010101050003818d0030818902818100b08b8a52e0401b421cdc09ad9da3fddc13bc823b8b36df3d04bc7ce40b5d063a28c0084a6d803f680f97f8928db9a7b6b08a3ef98af403b389b4f03ef861b252b3d012e6512697772758fe87cfe7f1d2b34ea27e1379871c65cd0b46e34a26ebb06a248913a5583de74e35b438aac923c61185619732d5bcaab5df45920333a10203010001\n",
      "-----\n",
      "recipient: 30819f300d06092a864886f70d010101050003818d0030818902818100c16f6d8a425945b5416fd2f8ed4bda1cdc117a6f67b34b8fba8c95b06a6ea4b2e1258729bd3f0619d930af7d4df8f65e0c2f32734816cde927cb2bb9c677aa5590cc47aeb48e9f0e92fe3b19bd516a8010e9ceb3616f011dd38ce0c3bc55cf504e8247afc00e5408ef9e64dd7637f4a78cf2637be83746795c3b77aa482511490203010001\n",
      "-----\n",
      "value: 129\n",
      "-----\n",
      "time: 2020-05-11 03:26:18.684744\n",
      "-----\n",
      "Transaction: # 2\n",
      "sender: 30819f300d06092a864886f70d010101050003818d0030818902818100c16f6d8a425945b5416fd2f8ed4bda1cdc117a6f67b34b8fba8c95b06a6ea4b2e1258729bd3f0619d930af7d4df8f65e0c2f32734816cde927cb2bb9c677aa5590cc47aeb48e9f0e92fe3b19bd516a8010e9ceb3616f011dd38ce0c3bc55cf504e8247afc00e5408ef9e64dd7637f4a78cf2637be83746795c3b77aa482511490203010001\n",
      "-----\n",
      "recipient: 30819f300d06092a864886f70d010101050003818d0030818902818100af4ccf2de98b4a1795cac18978bef976ab4dfdd967f6eb16aa65575d3f156681dfffd296a21092e01347ce98d8c960c19803f64606bc43997575de71c2d10dbcaed7d0ce242c14488aa90862198bcf9474ea351632e726e041a945c67041df3af3503c729460bf4ca21a227d1c49ce2dade11638bc170dfe4b8ebc7b1fe925250203010001\n",
      "-----\n",
      "value: 15.0\n",
      "-----\n",
      "time: 2020-05-11 03:26:18.700832\n",
      "-----\n",
      "Transaction: # 3\n",
      "sender: 30819f300d06092a864886f70d010101050003818d0030818902818100b08b8a52e0401b421cdc09ad9da3fddc13bc823b8b36df3d04bc7ce40b5d063a28c0084a6d803f680f97f8928db9a7b6b08a3ef98af403b389b4f03ef861b252b3d012e6512697772758fe87cfe7f1d2b34ea27e1379871c65cd0b46e34a26ebb06a248913a5583de74e35b438aac923c61185619732d5bcaab5df45920333a10203010001\n",
      "-----\n",
      "recipient: 30819f300d06092a864886f70d010101050003818d0030818902818100c16f6d8a425945b5416fd2f8ed4bda1cdc117a6f67b34b8fba8c95b06a6ea4b2e1258729bd3f0619d930af7d4df8f65e0c2f32734816cde927cb2bb9c677aa5590cc47aeb48e9f0e92fe3b19bd516a8010e9ceb3616f011dd38ce0c3bc55cf504e8247afc00e5408ef9e64dd7637f4a78cf2637be83746795c3b77aa482511490203010001\n",
      "-----\n",
      "value: 100\n",
      "-----\n",
      "time: 2020-05-11 03:26:18.714410\n",
      "-----\n"
     ]
    }
   ],
   "source": [
    "for i in range(len(Block1.verified_transactions)):\n",
    "    print(\"Transaction: #\", i + 1)\n",
    "    display_transaction(Block1.verified_transactions[i])"
   ]
  },
  {
   "cell_type": "code",
   "execution_count": 37,
   "metadata": {},
   "outputs": [
    {
     "data": {
      "text/plain": [
       "0"
      ]
     },
     "execution_count": 37,
     "metadata": {},
     "output_type": "execute_result"
    }
   ],
   "source": [
    "Block1.verified_transactions.pop()"
   ]
  },
  {
   "cell_type": "code",
   "execution_count": 40,
   "metadata": {},
   "outputs": [],
   "source": [
    "Sikka.append(Block1)"
   ]
  },
  {
   "cell_type": "code",
   "execution_count": 41,
   "metadata": {},
   "outputs": [
    {
     "name": "stdout",
     "output_type": "stream",
     "text": [
      "No. of blocks in Sikka:  2\n",
      "Block # 0\n",
      "sender: 30819f300d06092a864886f70d010101050003818d0030818902818100a5453ea002bb69527c691a72043a3647bb7d0c841fbbb128bdbd98e64bb91f281484c173d11eb0c39298ebcd91b109e166937cdda980ba6af39803cf198b2f07cc82b56dc090df3c1e18e220177640ab47395318f2d866b790bd1f848399ece41b5cbf47e4bd1fbc2c4d551080dc14296a427206d24cad113bebae98c5b51df50203010001\n",
      "-----\n",
      "recipient: 30819f300d06092a864886f70d010101050003818d0030818902818100af4ccf2de98b4a1795cac18978bef976ab4dfdd967f6eb16aa65575d3f156681dfffd296a21092e01347ce98d8c960c19803f64606bc43997575de71c2d10dbcaed7d0ce242c14488aa90862198bcf9474ea351632e726e041a945c67041df3af3503c729460bf4ca21a227d1c49ce2dade11638bc170dfe4b8ebc7b1fe925250203010001\n",
      "-----\n",
      "value: 15.25\n",
      "-----\n",
      "time: 2020-05-11 03:26:16.395303\n",
      "-----\n",
      "------------END------------\n",
      "sender: 30819f300d06092a864886f70d010101050003818d0030818902818100a5453ea002bb69527c691a72043a3647bb7d0c841fbbb128bdbd98e64bb91f281484c173d11eb0c39298ebcd91b109e166937cdda980ba6af39803cf198b2f07cc82b56dc090df3c1e18e220177640ab47395318f2d866b790bd1f848399ece41b5cbf47e4bd1fbc2c4d551080dc14296a427206d24cad113bebae98c5b51df50203010001\n",
      "-----\n",
      "recipient: 30819f300d06092a864886f70d010101050003818d0030818902818100c16f6d8a425945b5416fd2f8ed4bda1cdc117a6f67b34b8fba8c95b06a6ea4b2e1258729bd3f0619d930af7d4df8f65e0c2f32734816cde927cb2bb9c677aa5590cc47aeb48e9f0e92fe3b19bd516a8010e9ceb3616f011dd38ce0c3bc55cf504e8247afc00e5408ef9e64dd7637f4a78cf2637be83746795c3b77aa482511490203010001\n",
      "-----\n",
      "value: 6.0\n",
      "-----\n",
      "time: 2020-05-11 03:26:17.855505\n",
      "-----\n",
      "------------END------------\n",
      "sender: 30819f300d06092a864886f70d010101050003818d0030818902818100b08b8a52e0401b421cdc09ad9da3fddc13bc823b8b36df3d04bc7ce40b5d063a28c0084a6d803f680f97f8928db9a7b6b08a3ef98af403b389b4f03ef861b252b3d012e6512697772758fe87cfe7f1d2b34ea27e1379871c65cd0b46e34a26ebb06a248913a5583de74e35b438aac923c61185619732d5bcaab5df45920333a10203010001\n",
      "-----\n",
      "recipient: 30819f300d06092a864886f70d010101050003818d0030818902818100af4ccf2de98b4a1795cac18978bef976ab4dfdd967f6eb16aa65575d3f156681dfffd296a21092e01347ce98d8c960c19803f64606bc43997575de71c2d10dbcaed7d0ce242c14488aa90862198bcf9474ea351632e726e041a945c67041df3af3503c729460bf4ca21a227d1c49ce2dade11638bc170dfe4b8ebc7b1fe925250203010001\n",
      "-----\n",
      "value: 12.95\n",
      "-----\n",
      "time: 2020-05-11 03:26:18.669672\n",
      "-----\n",
      "------------END------------\n",
      "===========END OF BLOCK============\n",
      "Block # 1\n",
      "sender: 30819f300d06092a864886f70d010101050003818d0030818902818100b08b8a52e0401b421cdc09ad9da3fddc13bc823b8b36df3d04bc7ce40b5d063a28c0084a6d803f680f97f8928db9a7b6b08a3ef98af403b389b4f03ef861b252b3d012e6512697772758fe87cfe7f1d2b34ea27e1379871c65cd0b46e34a26ebb06a248913a5583de74e35b438aac923c61185619732d5bcaab5df45920333a10203010001\n",
      "-----\n",
      "recipient: 30819f300d06092a864886f70d010101050003818d0030818902818100c16f6d8a425945b5416fd2f8ed4bda1cdc117a6f67b34b8fba8c95b06a6ea4b2e1258729bd3f0619d930af7d4df8f65e0c2f32734816cde927cb2bb9c677aa5590cc47aeb48e9f0e92fe3b19bd516a8010e9ceb3616f011dd38ce0c3bc55cf504e8247afc00e5408ef9e64dd7637f4a78cf2637be83746795c3b77aa482511490203010001\n",
      "-----\n",
      "value: 129\n",
      "-----\n",
      "time: 2020-05-11 03:26:18.684744\n",
      "-----\n",
      "------------END------------\n",
      "sender: 30819f300d06092a864886f70d010101050003818d0030818902818100c16f6d8a425945b5416fd2f8ed4bda1cdc117a6f67b34b8fba8c95b06a6ea4b2e1258729bd3f0619d930af7d4df8f65e0c2f32734816cde927cb2bb9c677aa5590cc47aeb48e9f0e92fe3b19bd516a8010e9ceb3616f011dd38ce0c3bc55cf504e8247afc00e5408ef9e64dd7637f4a78cf2637be83746795c3b77aa482511490203010001\n",
      "-----\n",
      "recipient: 30819f300d06092a864886f70d010101050003818d0030818902818100af4ccf2de98b4a1795cac18978bef976ab4dfdd967f6eb16aa65575d3f156681dfffd296a21092e01347ce98d8c960c19803f64606bc43997575de71c2d10dbcaed7d0ce242c14488aa90862198bcf9474ea351632e726e041a945c67041df3af3503c729460bf4ca21a227d1c49ce2dade11638bc170dfe4b8ebc7b1fe925250203010001\n",
      "-----\n",
      "value: 15.0\n",
      "-----\n",
      "time: 2020-05-11 03:26:18.700832\n",
      "-----\n",
      "------------END------------\n",
      "sender: 30819f300d06092a864886f70d010101050003818d0030818902818100b08b8a52e0401b421cdc09ad9da3fddc13bc823b8b36df3d04bc7ce40b5d063a28c0084a6d803f680f97f8928db9a7b6b08a3ef98af403b389b4f03ef861b252b3d012e6512697772758fe87cfe7f1d2b34ea27e1379871c65cd0b46e34a26ebb06a248913a5583de74e35b438aac923c61185619732d5bcaab5df45920333a10203010001\n",
      "-----\n",
      "recipient: 30819f300d06092a864886f70d010101050003818d0030818902818100c16f6d8a425945b5416fd2f8ed4bda1cdc117a6f67b34b8fba8c95b06a6ea4b2e1258729bd3f0619d930af7d4df8f65e0c2f32734816cde927cb2bb9c677aa5590cc47aeb48e9f0e92fe3b19bd516a8010e9ceb3616f011dd38ce0c3bc55cf504e8247afc00e5408ef9e64dd7637f4a78cf2637be83746795c3b77aa482511490203010001\n",
      "-----\n",
      "value: 100\n",
      "-----\n",
      "time: 2020-05-11 03:26:18.714410\n",
      "-----\n",
      "------------END------------\n",
      "===========END OF BLOCK============\n"
     ]
    }
   ],
   "source": [
    "dump_chain(Sikka)"
   ]
  },
  {
   "cell_type": "code",
   "execution_count": null,
   "metadata": {},
   "outputs": [],
   "source": []
  }
 ],
 "metadata": {
  "file_extension": ".py",
  "kernelspec": {
   "display_name": "Python 3.7.3 32-bit",
   "language": "python",
   "name": "python37332bit079b3387962c426bacd8aab7f4dadca5"
  },
  "language_info": {
   "codemirror_mode": {
    "name": "ipython",
    "version": 3
   },
   "file_extension": ".py",
   "mimetype": "text/x-python",
   "name": "python",
   "nbconvert_exporter": "python",
   "pygments_lexer": "ipython3",
   "version": "3.7.3"
  },
  "mimetype": "text/x-python",
  "name": "python",
  "npconvert_exporter": "python",
  "pygments_lexer": "ipython3",
  "version": 3
 },
 "nbformat": 4,
 "nbformat_minor": 2
}
